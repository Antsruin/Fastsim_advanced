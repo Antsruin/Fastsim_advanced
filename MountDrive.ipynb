{
  "nbformat": 4,
  "nbformat_minor": 0,
  "metadata": {
    "colab": {
      "provenance": [],
      "mount_file_id": "1yrUTQWnvSonbJiRkhWcYTdDltMPVgRX1",
      "authorship_tag": "ABX9TyMxTHV9TUoFOL5EG1dWfNVP",
      "include_colab_link": true
    },
    "kernelspec": {
      "name": "python3",
      "display_name": "Python 3"
    },
    "language_info": {
      "name": "python"
    }
  },
  "cells": [
    {
      "cell_type": "markdown",
      "metadata": {
        "id": "view-in-github",
        "colab_type": "text"
      },
      "source": [
        "<a href=\"https://colab.research.google.com/github/Antsruin/Fastsim_advanced/blob/main/MountDrive.ipynb\" target=\"_parent\"><img src=\"https://colab.research.google.com/assets/colab-badge.svg\" alt=\"Open In Colab\"/></a>"
      ]
    },
    {
      "cell_type": "code",
      "execution_count": null,
      "metadata": {
        "colab": {
          "base_uri": "https://localhost:8080/"
        },
        "id": "6ClxQ8gD9hKX",
        "outputId": "3d287782-8b1f-4379-c124-48f45dd7e2c7"
      },
      "outputs": [
        {
          "output_type": "stream",
          "name": "stdout",
          "text": [
            "Mounted at /content/drive\n"
          ]
        }
      ],
      "source": [
        "#Mount google drive on google Colab\n",
        "import os,sys\n",
        "from google.colab import drive\n",
        "drive.mount(\"/content/drive\", force_remount=True)\n",
        "# nb_path = '/content/notebooks'\n",
        "# os.symlink('/content/drive/My Drive/Colab Notebooks', nb_path)\n",
        "# sys.path.insert(0,nb_path)"
      ]
    },
    {
      "cell_type": "code",
      "source": [
        "#Install Required python version and virtual env\n",
        "\n",
        "!sudo apt-get update\n",
        "!sudo apt-get install python3.8 python3.8-venv python3.8-dev\n",
        "\n",
        "#install virtual env\n",
        "  #!pip install virtualenv"
      ],
      "metadata": {
        "id": "i3Oab4CrVnQQ"
      },
      "execution_count": null,
      "outputs": []
    },
    {
      "cell_type": "code",
      "source": [
        "!chmod -R 755 /content/drive/MyDrive/fastsim/bin\n"
      ],
      "metadata": {
        "id": "ERZpKFQO7Orl"
      },
      "execution_count": null,
      "outputs": []
    },
    {
      "cell_type": "code",
      "source": [
        "#Check python version\n",
        "\n",
        "!python --version\n",
        "\n",
        "# If above doesn't work then\n",
        "!/fastsim/bin/pip --version\n",
        "!/content/drive/MyDrive/fastsim/bin/python -m pip --version\n",
        "\n",
        "!/usr/bin/python3.8 --version\n",
        "\n",
        "!which python\n",
        "!pwd"
      ],
      "metadata": {
        "colab": {
          "base_uri": "https://localhost:8080/"
        },
        "id": "GepgkMj3WagT",
        "outputId": "d1dbd85d-22d9-49d8-b149-c26dd4a8abe6"
      },
      "execution_count": null,
      "outputs": [
        {
          "output_type": "stream",
          "name": "stdout",
          "text": [
            "Python 3.11.11\n",
            "/bin/bash: line 1: /fastsim/bin/pip: No such file or directory\n",
            "/bin/bash: line 1: /content/drive/MyDrive/fastsim/bin/python: No such file or directory\n",
            "/bin/bash: line 1: /usr/bin/python3.8: No such file or directory\n",
            "/usr/local/bin/python\n",
            "/content\n"
          ]
        }
      ]
    },
    {
      "cell_type": "code",
      "source": [
        "import sys\n",
        "print(\"Python executable:\", sys.executable)\n",
        "print(\"Python version:\", sys.version)\n",
        "\n",
        "\n",
        "%env PATH=/content/drive/MyDrive/fastsim/bin:$PATH\n",
        "\n",
        "print(\"Python executable:\", sys.executable)\n",
        "print(\"Python version:\", sys.version)"
      ],
      "metadata": {
        "colab": {
          "base_uri": "https://localhost:8080/"
        },
        "id": "Z8Gaf_4fx_Ql",
        "outputId": "3c7a2ab4-b85a-4cf4-9808-633cf90dddc4"
      },
      "execution_count": null,
      "outputs": [
        {
          "output_type": "stream",
          "name": "stdout",
          "text": [
            "Python executable: /usr/bin/python3\n",
            "Python version: 3.11.11 (main, Dec  4 2024, 08:55:07) [GCC 11.4.0]\n",
            "env: PATH=/content/drive/MyDrive/fastsim/bin:$PATH\n",
            "Python executable: /usr/bin/python3\n",
            "Python version: 3.11.11 (main, Dec  4 2024, 08:55:07) [GCC 11.4.0]\n"
          ]
        }
      ]
    },
    {
      "cell_type": "code",
      "source": [
        "#Create python env\n",
        "\n",
        "!python -m venv /content/drive/MyDrive/fastsim"
      ],
      "metadata": {
        "id": "eHyFKbX9V-ou"
      },
      "execution_count": null,
      "outputs": []
    },
    {
      "cell_type": "code",
      "source": [
        "#Add this python version as sys path\n",
        "# import sys\n",
        "# sys.path.insert(0, \"/content/drive/MyDrive/fastsim/bin\")\n",
        "\n",
        "#### If above doesn't work then use this\n",
        "!ln -sf /content/drive/MyDrive/fastsim/bin/python /usr/local/bin/python"
      ],
      "metadata": {
        "id": "ju2V4SkgwWZg",
        "colab": {
          "base_uri": "https://localhost:8080/"
        },
        "outputId": "187bd153-ed8e-461c-da28-8ddb3aa42232"
      },
      "execution_count": null,
      "outputs": [
        {
          "output_type": "stream",
          "name": "stdout",
          "text": [
            "/bin/bash: line 1: ln: command not found\n"
          ]
        }
      ]
    },
    {
      "cell_type": "code",
      "source": [
        "#Activate the env\n",
        "\n",
        "!source fastsim/bin/activate"
      ],
      "metadata": {
        "id": "xJD53FsWWRYg"
      },
      "execution_count": null,
      "outputs": []
    },
    {
      "cell_type": "code",
      "source": [
        "#Change Working Directory\n",
        "\n",
        "!pwd\n",
        "\n",
        "%cd /content/drive/MyDrive/\n",
        "!cd ..\n",
        "!pwd"
      ],
      "metadata": {
        "id": "zr_3lRTTXCyh",
        "colab": {
          "base_uri": "https://localhost:8080/"
        },
        "outputId": "88d6c57b-c819-4eee-d609-17df9e233e33"
      },
      "execution_count": null,
      "outputs": [
        {
          "output_type": "stream",
          "name": "stdout",
          "text": [
            "/content\n",
            "/content/drive/MyDrive\n",
            "/content/drive/MyDrive\n"
          ]
        }
      ]
    },
    {
      "cell_type": "code",
      "source": [
        "#Install required packages using\n",
        "\n",
        "!/content/drive/MyDrive/fastsim/bin/pip install awkward==1.10.2\n",
        "!/content/drive/MyDrive/fastsim/bin/pip install comet_ml==3.42.0\n",
        "!/content/drive/MyDrive/fastsim/bin/pip install dgl==1.0.1\n",
        "!/content/drive/MyDrive/fastsim/bin/pip install matplotlib==3.7.5\n",
        "!/content/drive/MyDrive/fastsim/bin/pip install numpy==1.22.4\n",
        "!/content/drive/MyDrive/fastsim/bin/pip install pytorch_lightning==1.9.5\n",
        "!/content/drive/MyDrive/fastsim/bin/pip install PyYAML==6.0.1\n",
        "!/content/drive/MyDrive/fastsim/bin/pip install scipy==1.7.3\n",
        "!/content/drive/MyDrive/fastsim/bin/pip install torch==1.13.1\n",
        "!/content/drive/MyDrive/fastsim/bin/pip install torchcfm==1.0.5\n",
        "!/content/drive/MyDrive/fastsim/bin/pip install torchdiffeq==0.2.3\n",
        "!/content/drive/MyDrive/fastsim/bin/pip install tqdm==4.64.1\n",
        "!/content/drive/MyDrive/fastsim/bin/pip install uproot==4.3.7"
      ],
      "metadata": {
        "id": "VxJ2GtcjXUEF"
      },
      "execution_count": null,
      "outputs": []
    },
    {
      "cell_type": "code",
      "source": [
        "!deactivate"
      ],
      "metadata": {
        "colab": {
          "base_uri": "https://localhost:8080/"
        },
        "id": "0M92AzHhVMFZ",
        "outputId": "9be88fdd-5dbd-46db-c055-9ea0adc361b3"
      },
      "execution_count": null,
      "outputs": [
        {
          "output_type": "stream",
          "name": "stdout",
          "text": [
            "/bin/bash: line 1: deactivate: command not found\n"
          ]
        }
      ]
    },
    {
      "cell_type": "code",
      "source": [
        "#Check list of python packages installed\n",
        "\n",
        "!fastsim/bin/pip --version\n",
        "!pip --version"
      ],
      "metadata": {
        "id": "Q6NIF7rky3bE",
        "colab": {
          "base_uri": "https://localhost:8080/"
        },
        "outputId": "0bd643fd-e952-4dd1-c7b3-3021f8ce7493"
      },
      "execution_count": null,
      "outputs": [
        {
          "output_type": "stream",
          "name": "stdout",
          "text": [
            "/bin/bash: fastsim/bin/pip: /content/drive/MyDrive/fastsim/bin/python3.8: bad interpreter: No such file or directory\n",
            "pip 24.1.2 from /usr/local/lib/python3.11/dist-packages/pip (python 3.11)\n"
          ]
        }
      ]
    },
    {
      "cell_type": "code",
      "source": [
        "!ls"
      ],
      "metadata": {
        "id": "w2XER7xTy9pc",
        "colab": {
          "base_uri": "https://localhost:8080/"
        },
        "outputId": "0fcecd8b-7133-49fb-a09b-63e76aec0727"
      },
      "execution_count": null,
      "outputs": [
        {
          "output_type": "stream",
          "name": "stdout",
          "text": [
            "'Colab Notebooks'   fastsim\n"
          ]
        }
      ]
    },
    {
      "cell_type": "code",
      "source": [
        "!pwd"
      ],
      "metadata": {
        "id": "C4ayEKCI4ThJ",
        "colab": {
          "base_uri": "https://localhost:8080/"
        },
        "outputId": "7dcb23a8-2e38-4907-a828-fb8ebecfa37f"
      },
      "execution_count": null,
      "outputs": [
        {
          "output_type": "stream",
          "name": "stdout",
          "text": [
            "/content/drive/MyDrive\n"
          ]
        }
      ]
    },
    {
      "cell_type": "code",
      "source": [
        "#Remove paths from sys\n",
        "\n",
        "import sys\n",
        "\n",
        "print(sys.path)\n",
        "# if sys.path:  # Ensure sys.path is not empty\n",
        "#     removed_path = sys.path.pop(0)  # Remove the first element\n",
        "#     print(f\"Removed path: {removed_path}\")\n",
        "\n",
        "# print(sys.path)  # Check updated sys.path\n"
      ],
      "metadata": {
        "colab": {
          "base_uri": "https://localhost:8080/"
        },
        "id": "nY-mCoaD9OG2",
        "outputId": "f01f3e0f-217a-451a-e4a6-b887a83f4e28"
      },
      "execution_count": null,
      "outputs": [
        {
          "output_type": "stream",
          "name": "stdout",
          "text": [
            "['/content/notebooks', '/content', '/env/python', '/usr/lib/python311.zip', '/usr/lib/python3.11', '/usr/lib/python3.11/lib-dynload', '', '/usr/local/lib/python3.11/dist-packages', '/usr/lib/python3/dist-packages', '/usr/local/lib/python3.11/dist-packages/IPython/extensions', '/root/.ipython', '/content/drive/MyDrive/fastsim/lib/python3.8/site-packages']\n"
          ]
        }
      ]
    },
    {
      "cell_type": "code",
      "source": [
        "import sys\n",
        "# add the path of the virtual environmentsite-packages to colab system path\n",
        "sys.path.append(\"/content/drive/MyDrive/fastsim/lib/python3.8/site-packages\")"
      ],
      "metadata": {
        "id": "4VkgDNQo9dlh"
      },
      "execution_count": null,
      "outputs": []
    },
    {
      "cell_type": "code",
      "source": [
        "\n"
      ],
      "metadata": {
        "id": "V130bVZR-3yW"
      },
      "execution_count": null,
      "outputs": []
    },
    {
      "cell_type": "code",
      "source": [
        "!which ln"
      ],
      "metadata": {
        "colab": {
          "base_uri": "https://localhost:8080/"
        },
        "id": "Ntq5GN_aEdsQ",
        "outputId": "22b4befa-cbd7-4ca9-e325-4ca90215ca64"
      },
      "execution_count": null,
      "outputs": [
        {
          "output_type": "stream",
          "name": "stdout",
          "text": [
            "/bin/bash: line 1: which: command not found\n"
          ]
        }
      ]
    },
    {
      "cell_type": "code",
      "source": [
        "!which python"
      ],
      "metadata": {
        "id": "vp3W7mA4GO_3",
        "colab": {
          "base_uri": "https://localhost:8080/"
        },
        "outputId": "1d4de777-28d3-4e96-917a-d4ca2bd2b6e7"
      },
      "execution_count": null,
      "outputs": [
        {
          "output_type": "stream",
          "name": "stdout",
          "text": [
            "/usr/local/bin/python\n"
          ]
        }
      ]
    },
    {
      "cell_type": "code",
      "source": [],
      "metadata": {
        "id": "I7xnXntQIzyr"
      },
      "execution_count": null,
      "outputs": []
    }
  ]
}